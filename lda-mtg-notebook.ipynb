{
 "cells": [
  {
   "cell_type": "markdown",
   "metadata": {},
   "source": [
    "# Finding Magic: The Gathering archetypes with LDA: Code\n",
    "\n",
    "This notebook is meant as a supplement for [this article](https://medium.com/p/729112d324a6). The results were gotten from working with [this data](https:linktothesamedata). You can try this method on data from other decklists. There is an API on [MTGDecks](https://mtgdecks.net) to access the latest 500 tournament decklists from [Standard](https://mtgdecks.net/decks/csv/Standard), [Modern](https://mtgdecks.net/decks/csv/Modern), [Legacy](https://mtgdecks.net/decks/csv/Legacy), [Vintage](https://mtgdecks.net/decks/csv/Vintage), [Commander](https://mtgdecks.net/decks/csv/Commander), [Pauper](https://mtgdecks.net/decks/csv/Pauper) [Frontier](https://mtgdecks.net/decks/csv/Frontier), [Peasant](https://mtgdecks.net/decks/csv/Peasant) or [Highlander](https://mtgdecks.net/decks/csv/Highlander)."
   ]
  },
  {
   "cell_type": "markdown",
   "metadata": {},
   "source": [
    "## Preparing the data\n",
    "\n",
    "The usual first step of machine learning tasks is getting the data to the right form for the algorithm that we wish to apply. The data is a csv where each line represents a decklist. Each line contains a main deck and sideboard:"
   ]
  },
  {
   "cell_type": "code",
   "execution_count": 1,
   "metadata": {
    "collapsed": false
   },
   "outputs": [
    {
     "name": "stdout",
     "output_type": "stream",
     "text": [
      "\"4 Celestial Colonnade 1 Celestial Purge 3 Cryptic Command 2 Detention Sphere 1 Disdainful Stroke 1 Dispel 1 Elspeth, Sun's Champion 2 Field of Ruin 4 Flooded Strand 1 Geist of Saint Traft 2 Ghost Quarter 1 Gideon Jura 2 Gideon of the Trials 1 Gideon, Ally of Zendikar 3 Glacial Fortress 1 Grafdigger's Cage 1 Hallowed Fountain 5 Island 1 Jace, Architect of Thought 3 Leyline of Sanctity 3 Mana Leak 2 Negate 4 Path to Exile 3 Plains 2 Rest in Peace 1 Search for Azcanta 4 Serum Visions 3 Snapcaster Mage 1 Sphinx's Revelation 4 Spreading Seas 2 Stony Silence 3 Supreme Verdict 1 Temple of Enlightenment 1 Think Twice 1 Vendilion Clique\"\n",
      "\n"
     ]
    }
   ],
   "source": [
    "with open('Modern.htm', 'r') as f:\n",
    "    print(f.readline())"
   ]
  },
  {
   "cell_type": "markdown",
   "metadata": {},
   "source": [
    "We feed the data into a gensim Dictionary, similarly as in [this tutorial](https://radimrehurek.com/gensim/tut1.html). We split each decklist into individual cards, ignoring the card counts and cards that appear only once. "
   ]
  },
  {
   "cell_type": "code",
   "execution_count": 2,
   "metadata": {
    "collapsed": false
   },
   "outputs": [
    {
     "name": "stderr",
     "output_type": "stream",
     "text": [
      "Using TensorFlow backend.\n"
     ]
    }
   ],
   "source": [
    "import gensim\n",
    "import re \n",
    "from six import iteritems"
   ]
  },
  {
   "cell_type": "code",
   "execution_count": 3,
   "metadata": {
    "collapsed": false
   },
   "outputs": [],
   "source": [
    "dictionary = gensim.corpora.Dictionary([x.strip() for x in re.split(r\"[\\d]+\", line.replace(\"\\\"\", \"\"))]\n",
    "                                for line in open('Modern.htm'))\n",
    "once_ids = [tokenid for tokenid, docfreq in iteritems(dictionary.dfs) if docfreq == 1]\n",
    "dictionary.filter_tokens(once_ids)  # remove cards that appear only once\n",
    "dictionary.compactify()  # remove gaps in id sequence after words that were removed"
   ]
  },
  {
   "cell_type": "markdown",
   "metadata": {},
   "source": [
    "There are almost 700 cards in our modern-card dictionary:"
   ]
  },
  {
   "cell_type": "code",
   "execution_count": 4,
   "metadata": {
    "collapsed": false
   },
   "outputs": [
    {
     "name": "stdout",
     "output_type": "stream",
     "text": [
      "698\n"
     ]
    }
   ],
   "source": [
    "unique_cards = len(dictionary.keys())\n",
    "print(unique_cards)"
   ]
  },
  {
   "cell_type": "markdown",
   "metadata": {},
   "source": [
    "Next we create a gensim Corpus. Instead of having a bag of words (cards) model, we take note how many times each card appears in a deck and \"uncompress\" the decklist description."
   ]
  },
  {
   "cell_type": "code",
   "execution_count": 5,
   "metadata": {
    "collapsed": true
   },
   "outputs": [],
   "source": [
    "import numpy as np"
   ]
  },
  {
   "cell_type": "code",
   "execution_count": 6,
   "metadata": {
    "collapsed": false,
    "scrolled": true
   },
   "outputs": [],
   "source": [
    "class MyCorpus(object):\n",
    "    def __iter__(self):\n",
    "        for line in open('Modern.htm'):\n",
    "            decklist = line.replace(\"\\\"\", \"\") # remove start and end tokens            \n",
    "            decklist = re.split(r\"([\\d]+)\", decklist) # split by numbers and card names\n",
    "            decklist = [x.strip() for x in decklist] # remove whitespace\n",
    "            decklist = filter(None, decklist) # remove empty words\n",
    "            cleaned_decklist = [] \n",
    "            for i in range(len(decklist)/2): # remove numbers from decklist, add multiplicities of cards\n",
    "                for j in range(int(decklist[i*2])):\n",
    "                    cleaned_decklist.append(decklist[i*2+1])\n",
    "            yield dictionary.doc2bow(cleaned_decklist)\n",
    "corpus_memory_friendly = MyCorpus()  \n",
    "\n"
   ]
  },
  {
   "cell_type": "markdown",
   "metadata": {},
   "source": [
    "## Training the model\n",
    "Now that the data is ready, we set the amount of achetypes to be found. Setting it to 30 gave me good results. Try varying this and see what happens! "
   ]
  },
  {
   "cell_type": "code",
   "execution_count": 7,
   "metadata": {
    "collapsed": false,
    "scrolled": true
   },
   "outputs": [],
   "source": [
    "archetypes = 30"
   ]
  },
  {
   "cell_type": "markdown",
   "metadata": {},
   "source": [
    "Since there are stochastic steps in the training of the model, you might get slightly different results each time. Having the seed set to 1 allows you to recreate my results."
   ]
  },
  {
   "cell_type": "code",
   "execution_count": 8,
   "metadata": {
    "collapsed": true
   },
   "outputs": [],
   "source": [
    "np.random.seed(1)"
   ]
  },
  {
   "cell_type": "markdown",
   "metadata": {},
   "source": [
    "The \"Latent Dirichlet\" part of the method name comes from the assumption that latent [priors](https://en.wikipedia.org/wiki/Prior_probability) on the per-archetype card distribution and per-decklist archetype distributions are [Dirichlet](https://en.wikipedia.org/wiki/Dirichlet_distribution). This allows us to steer the learning of the model.\n",
    "\n",
    "The priors allow us to tell the model how we believe the data actually looks like. If we have a large number of archetypes and are confident that each decklist only falls under one archetype, than setting a low alpha indicates that we prefer each decklist to belong to few, dominating archetypes. We can similarly control the archetype-card sparsity with beta. \n"
   ]
  },
  {
   "cell_type": "code",
   "execution_count": 9,
   "metadata": {
    "collapsed": true
   },
   "outputs": [],
   "source": [
    "alpha_prior = [1.0 / archetypes] * archetypes\n",
    "beta_prior = [1.0 / archetypes] * unique_cards"
   ]
  },
  {
   "cell_type": "markdown",
   "metadata": {},
   "source": [
    "We finally train the model. This could take a couple of minutes. It seems like a good "
   ]
  },
  {
   "cell_type": "code",
   "execution_count": 10,
   "metadata": {
    "collapsed": false
   },
   "outputs": [],
   "source": [
    "iterations = 30\n",
    "lda = gensim.models.ldamodel.LdaModel(corpus=corpus_memory_friendly, id2word=dictionary, num_topics=archetypes,\n",
    "                                      passes=iterations, alpha = alpha_prior, eta = beta_prior)"
   ]
  },
  {
   "cell_type": "markdown",
   "metadata": {},
   "source": [
    "## Checking the results\n",
    "A good rule of thumb while doing machine learning work is to do regular sanity checks. Anything from simple output prints to beautiful visualizations will help you understand what's going on. After the training is finished, we can explore the archetypes that it finds. Gensim offers a nice way to see the probability-card pairs in each archetype. Let's iterate through each one and see what it has learned!"
   ]
  },
  {
   "cell_type": "code",
   "execution_count": 11,
   "metadata": {
    "collapsed": false,
    "scrolled": true
   },
   "outputs": [
    {
     "name": "stdout",
     "output_type": "stream",
     "text": [
      "Archetype 0 \n",
      " 0.149*\"Plains\" + 0.064*\"Path to Exile\" + 0.049*\"Thalia, Guardian of Thraben\" + 0.048*\"Ghost Quarter\" + 0.047*\"Restoration Angel\" + 0.046*\"Aether Vial\" + 0.044*\"Flickerwisp\" + 0.041*\"Blade Splicer\" + 0.039*\"Thraben Inspector\" + 0.036*\"Stony Silence\" + 0.034*\"Tectonic Edge\" + 0.033*\"Leonin Arbiter\" + 0.032*\"Rest in Peace\" + 0.028*\"Horizon Canopy\" + 0.022*\"Leyline of Sanctity\" + 0.020*\"Mirran Crusader\" \n",
      "\n",
      "Archetype 1 \n",
      " 0.078*\"Mountain\" + 0.060*\"Primeval Titan\" + 0.046*\"Wooded Foothills\" + 0.045*\"Search for Tomorrow\" + 0.045*\"Sakura-Tribe Elder\" + 0.044*\"Valakut, the Molten Pinnacle\" + 0.041*\"Stomping Ground\" + 0.039*\"Scapeshift\" + 0.036*\"Summoner's Pact\" + 0.035*\"Farseek\" + 0.034*\"Forest\" + 0.034*\"Relic of Progenitus\" + 0.033*\"Lightning Bolt\" + 0.032*\"Cinder Glade\" + 0.029*\"Anger of the Gods\" + 0.028*\"Obstinate Baloth\" \n",
      "\n",
      "Archetype 2 \n",
      " 0.055*\"Knight of the Reliquary\" + 0.054*\"Noble Hierarch\" + 0.054*\"Windswept Heath\" + 0.052*\"Collected Company\" + 0.048*\"Path to Exile\" + 0.045*\"Birds of Paradise\" + 0.040*\"Forest\" + 0.035*\"Voice of Resurgence\" + 0.031*\"Ghost Quarter\" + 0.029*\"Temple Garden\" + 0.025*\"Spell Queller\" + 0.024*\"Courser of Kruphix\" + 0.023*\"Plains\" + 0.022*\"Scavenging Ooze\" + 0.021*\"Selfless Spirit\" + 0.020*\"Wooded Foothills\" \n",
      "\n",
      "Archetype 3 \n",
      " 0.060*\"Insolent Neonate\" + 0.055*\"Cathartic Reunion\" + 0.054*\"Faithless Looting\" + 0.051*\"Narcomoeba\" + 0.051*\"Stinkweed Imp\" + 0.051*\"Prized Amalgam\" + 0.051*\"Bloodghast\" + 0.046*\"Life from the Loam\" + 0.042*\"Collective Brutality\" + 0.041*\"Copperline Gorge\" + 0.037*\"Conflagrate\" + 0.031*\"Gemstone Mine\" + 0.029*\"Golgari Thug\" + 0.027*\"Darkblast\" + 0.026*\"Lightning Axe\" + 0.026*\"Dakmor Salvage\" \n",
      "\n",
      "Archetype 4 \n",
      " 0.065*\"Simian Spirit Guide\" + 0.043*\"Street Wraith\" + 0.042*\"Blackcleave Cliffs\" + 0.041*\"Monstrous Carabid\" + 0.041*\"Violent Outburst\" + 0.041*\"Demonic Dread\" + 0.041*\"Horror of the Broken Lands\" + 0.038*\"Fulminator Mage\" + 0.038*\"Beast Within\" + 0.034*\"Shrine of Burning Rage\" + 0.034*\"Ricochet Trap\" + 0.031*\"Living End\" + 0.031*\"Ingot Chewer\" + 0.029*\"Bloodstained Mire\" + 0.027*\"Leyline of the Void\" + 0.027*\"Chained to the Rocks\" \n",
      "\n",
      "Archetype 5 \n",
      " 0.061*\"Island\" + 0.037*\"Urza's Power Plant\" + 0.037*\"Urza's Tower\" + 0.037*\"Expedition Map\" + 0.037*\"Urza's Mine\" + 0.035*\"Condescend\" + 0.033*\"Thirst for Knowledge\" + 0.022*\"Grove of the Burnwillows\" + 0.022*\"Repeal\" + 0.020*\"Wurmcoil Engine\" + 0.020*\"Talisman of Dominance\" + 0.020*\"Spatial Contortion\" + 0.019*\"Remand\" + 0.019*\"Polluted Delta\" + 0.018*\"Mesmeric Orb\" + 0.018*\"Glimpse the Unthinkable\" \n",
      "\n",
      "Archetype 6 \n",
      " 0.263*\"Swamp\" + 0.059*\"Duress\" + 0.052*\"Raven's Crime\" + 0.041*\"Gifted Aetherborn\" + 0.040*\"Mutavault\" + 0.039*\"Ghost Quarter\" + 0.033*\"Tormod's Crypt\" + 0.032*\"Inquisition of Kozilek\" + 0.031*\"Smallpox\" + 0.030*\"Smuggler's Copter\" + 0.030*\"Delirium Skeins\" + 0.030*\"Shrieking Affliction\" + 0.030*\"The Rack\" + 0.022*\"Wrench Mind\" + 0.019*\"Sign in Blood\" + 0.019*\"Gurmag Angler\" \n",
      "\n",
      "Archetype 7 \n",
      " 0.065*\"Island\" + 0.056*\"Path to Exile\" + 0.052*\"Flooded Strand\" + 0.051*\"Celestial Colonnade\" + 0.048*\"Supreme Verdict\" + 0.047*\"Spreading Seas\" + 0.040*\"Serum Visions\" + 0.039*\"Cryptic Command\" + 0.039*\"Plains\" + 0.033*\"Snapcaster Mage\" + 0.033*\"Field of Ruin\" + 0.029*\"Stony Silence\" + 0.026*\"Glacial Fortress\" + 0.024*\"Mana Leak\" + 0.024*\"Negate\" + 0.024*\"Detention Sphere\" \n",
      "\n",
      "Archetype 8 \n",
      " 0.064*\"Polluted Delta\" + 0.050*\"Snapcaster Mage\" + 0.045*\"Flooded Strand\" + 0.043*\"Island\" + 0.041*\"Opt\" + 0.039*\"Mana Leak\" + 0.036*\"Fatal Push\" + 0.035*\"Lingering Souls\" + 0.033*\"Cryptic Command\" + 0.032*\"Watery Grave\" + 0.022*\"Vendilion Clique\" + 0.022*\"Darkslick Shores\" + 0.021*\"Ceremonious Rejection\" + 0.021*\"Collective Brutality\" + 0.020*\"Spell Snare\" + 0.019*\"Creeping Tar Pit\" \n",
      "\n",
      "Archetype 9 \n",
      " 0.049*\"Monastery Swiftspear\" + 0.048*\"Lightning Helix\" + 0.045*\"Lightning Bolt\" + 0.044*\"Goblin Guide\" + 0.042*\"Eidolon of the Great Revel\" + 0.041*\"Boros Charm\" + 0.040*\"Lava Spike\" + 0.040*\"Wooded Foothills\" + 0.040*\"Rift Bolt\" + 0.038*\"Bloodstained Mire\" + 0.038*\"Searing Blaze\" + 0.037*\"Skullcrack\" + 0.034*\"Mountain\" + 0.032*\"Inspiring Vantage\" + 0.028*\"Arid Mesa\" + 0.027*\"Sacred Foundry\" \n",
      "\n",
      "Archetype 10 \n",
      " 0.069*\"Nahiri, the Harbinger\" + 0.049*\"Windswept Heath\" + 0.034*\"Eldrazi Displacer\" + 0.034*\"Noble Hierarch\" + 0.031*\"Path to Exile\" + 0.030*\"Ancient Stirrings\" + 0.029*\"Leyline of Sanctity\" + 0.027*\"Reality Smasher\" + 0.027*\"Eldrazi Temple\" + 0.027*\"Thought-Knot Seer\" + 0.025*\"Eldrazi Skyspawner\" + 0.025*\"Drowner of Hope\" + 0.024*\"Rest in Peace\" + 0.021*\"Birds of Paradise\" + 0.021*\"Engineered Explosives\" + 0.019*\"Cavern of Souls\" \n",
      "\n",
      "Archetype 11 \n",
      " 0.053*\"Cavern of Souls\" + 0.053*\"Unclaimed Territory\" + 0.053*\"Champion of the Parish\" + 0.053*\"Thalia's Lieutenant\" + 0.053*\"Kitesail Freebooter\" + 0.053*\"Meddling Mage\" + 0.052*\"Reflector Mage\" + 0.051*\"Thalia, Guardian of Thraben\" + 0.050*\"Noble Hierarch\" + 0.047*\"Mantis Rider\" + 0.045*\"Ancient Ziggurat\" + 0.044*\"Aether Vial\" + 0.039*\"Mayor of Avabruck\" + 0.033*\"Windswept Heath\" + 0.026*\"Izzet Staticaster\" + 0.024*\"Horizon Canopy\" \n",
      "\n",
      "Archetype 12 \n",
      " 0.068*\"Path to Exile\" + 0.050*\"Razorverge Thicket\" + 0.048*\"Windswept Heath\" + 0.044*\"Daybreak Coronet\" + 0.044*\"Rancor\" + 0.044*\"Ethereal Armor\" + 0.044*\"Leyline of Sanctity\" + 0.044*\"Slippery Bogle\" + 0.044*\"Gladecover Scout\" + 0.044*\"Kor Spiritdancer\" + 0.039*\"Wooded Foothills\" + 0.035*\"Temple Garden\" + 0.033*\"Spider Umbra\" + 0.030*\"Rest in Peace\" + 0.028*\"Stony Silence\" + 0.022*\"Horizon Canopy\" \n",
      "\n",
      "Archetype 13 \n",
      " 0.055*\"Blinkmoth Nexus\" + 0.055*\"Darksteel Citadel\" + 0.053*\"Mox Opal\" + 0.053*\"Signal Pest\" + 0.053*\"Inkmoth Nexus\" + 0.053*\"Arcbound Ravager\" + 0.053*\"Cranial Plating\" + 0.053*\"Ornithopter\" + 0.052*\"Springleaf Drum\" + 0.050*\"Vault Skirge\" + 0.049*\"Steel Overseer\" + 0.046*\"Etched Champion\" + 0.040*\"Galvanic Blast\" + 0.034*\"Master of Etherium\" + 0.033*\"Spire of Industry\" + 0.031*\"Memnite\" \n",
      "\n",
      "Archetype 14 \n",
      " 0.068*\"Polluted Delta\" + 0.060*\"Bloodstained Mire\" + 0.059*\"Death's Shadow\" + 0.054*\"Street Wraith\" + 0.053*\"Fatal Push\" + 0.050*\"Stubborn Denial\" + 0.049*\"Thoughtseize\" + 0.043*\"Thought Scour\" + 0.042*\"Serum Visions\" + 0.040*\"Snapcaster Mage\" + 0.039*\"Scalding Tarn\" + 0.029*\"Watery Grave\" + 0.028*\"Terminate\" + 0.026*\"Inquisition of Kozilek\" + 0.025*\"Collective Brutality\" + 0.025*\"Ceremonious Rejection\" \n",
      "\n",
      "Archetype 15 \n",
      " 0.069*\"Wooded Foothills\" + 0.050*\"Forest\" + 0.039*\"Windswept Heath\" + 0.039*\"Nykthos, Shrine to Nyx\" + 0.035*\"Burning-Tree Emissary\" + 0.034*\"Arbor Elf\" + 0.034*\"Utopia Sprawl\" + 0.027*\"Garruk Wildspeaker\" + 0.027*\"Stomping Ground\" + 0.024*\"Tarmogoyf\" + 0.023*\"Blood Moon\" + 0.020*\"Kitchen Finks\" + 0.020*\"Narnam Renegade\" + 0.020*\"Oath of Nissa\" + 0.017*\"Atarka's Command\" + 0.017*\"Lightning Bolt\" \n",
      "\n",
      "Archetype 16 \n",
      " 0.139*\"Mountain\" + 0.046*\"Ensnaring Bridge\" + 0.042*\"Ancient Stirrings\" + 0.041*\"Glimmervoid\" + 0.041*\"Mox Opal\" + 0.040*\"Codex Shredder\" + 0.040*\"Whir of Invention\" + 0.040*\"Lantern of Insight\" + 0.040*\"Spire of Industry\" + 0.035*\"Mishra's Bauble\" + 0.034*\"Thoughtseize\" + 0.034*\"Darkslick Shores\" + 0.031*\"Pithing Needle\" + 0.028*\"Leyline of Sanctity\" + 0.027*\"Botanical Sanctum\" + 0.025*\"Inquisition of Kozilek\" \n",
      "\n",
      "Archetype 17 \n",
      " 0.077*\"Island\" + 0.065*\"Lightning Bolt\" + 0.058*\"Remand\" + 0.054*\"Scalding Tarn\" + 0.048*\"Snapcaster Mage\" + 0.040*\"Serum Visions\" + 0.039*\"Steam Vents\" + 0.034*\"Through the Breach\" + 0.034*\"Opt\" + 0.033*\"Blood Moon\" + 0.033*\"Sulfur Falls\" + 0.031*\"Dispel\" + 0.031*\"Cryptic Command\" + 0.027*\"Emrakul, the Aeons Torn\" + 0.024*\"Anger of the Gods\" + 0.023*\"Polluted Delta\" \n",
      "\n",
      "Archetype 18 \n",
      " 0.056*\"Lightning Bolt\" + 0.055*\"Path to Exile\" + 0.055*\"Flooded Strand\" + 0.054*\"Scalding Tarn\" + 0.054*\"Snapcaster Mage\" + 0.052*\"Spell Queller\" + 0.050*\"Celestial Colonnade\" + 0.046*\"Serum Visions\" + 0.043*\"Lightning Helix\" + 0.041*\"Cryptic Command\" + 0.036*\"Island\" + 0.034*\"Geist of Saint Traft\" + 0.034*\"Logic Knot\" + 0.027*\"Steam Vents\" + 0.027*\"Hallowed Fountain\" + 0.026*\"Electrolyze\" \n",
      "\n",
      "Archetype 19 \n",
      " 0.059*\"Concealed Courtyard\" + 0.058*\"Tidehollow Sculler\" + 0.056*\"Path to Exile\" + 0.052*\"Caves of Koilos\" + 0.049*\"Thought-Knot Seer\" + 0.049*\"Eldrazi Temple\" + 0.046*\"Ghost Quarter\" + 0.045*\"Aether Vial\" + 0.043*\"Eldrazi Displacer\" + 0.043*\"Leonin Arbiter\" + 0.042*\"Thalia, Guardian of Thraben\" + 0.040*\"Flickerwisp\" + 0.039*\"Wasteland Strangler\" + 0.033*\"Stony Silence\" + 0.028*\"Rest in Peace\" + 0.028*\"Shambling Vent\" \n",
      "\n",
      "Archetype 20 \n",
      " 0.072*\"Faithless Looting\" + 0.058*\"Cathartic Reunion\" + 0.058*\"Bloodstained Mire\" + 0.057*\"Hollow One\" + 0.056*\"Street Wraith\" + 0.052*\"Leyline of the Void\" + 0.042*\"Swamp\" + 0.035*\"Mountain\" + 0.035*\"Blood Crypt\" + 0.034*\"Vengevine\" + 0.034*\"Griselbrand\" + 0.034*\"Goryo's Vengeance\" + 0.031*\"Lightning Bolt\" + 0.029*\"Ancient Grudge\" + 0.029*\"Gurmag Angler\" + 0.025*\"Night's Whisper\" \n",
      "\n",
      "Archetype 21 \n",
      " 0.099*\"Island\" + 0.055*\"Mutavault\" + 0.050*\"Ceremonious Rejection\" + 0.050*\"Spreading Seas\" + 0.048*\"Master of the Pearl Trident\" + 0.048*\"Silvergill Adept\" + 0.048*\"Lord of Atlantis\" + 0.048*\"Aether Vial\" + 0.044*\"Merrow Reejerey\" + 0.044*\"Harbinger of the Tides\" + 0.044*\"Relic of Progenitus\" + 0.040*\"Botanical Sanctum\" + 0.038*\"Cavern of Souls\" + 0.032*\"Kumena's Speaker\" + 0.032*\"Merfolk Branchwalker\" + 0.032*\"Cursecatcher\" \n",
      "\n",
      "Archetype 22 \n",
      " 0.059*\"Misty Rainforest\" + 0.058*\"Collected Company\" + 0.052*\"Noble Hierarch\" + 0.051*\"Windswept Heath\" + 0.050*\"Devoted Druid\" + 0.050*\"Spell Queller\" + 0.048*\"Chord of Calling\" + 0.046*\"Path to Exile\" + 0.039*\"Vizier of Remedies\" + 0.038*\"Unified Will\" + 0.037*\"Birds of Paradise\" + 0.036*\"Eternal Witness\" + 0.036*\"Duskwatch Recruiter\" + 0.029*\"Breeding Pool\" + 0.029*\"Forest\" + 0.025*\"Burrenton Forge-Tender\" \n",
      "\n",
      "Archetype 23 \n",
      " 0.056*\"Liliana of the Veil\" + 0.056*\"Inquisition of Kozilek\" + 0.054*\"Verdant Catacombs\" + 0.054*\"Fatal Push\" + 0.052*\"Tarmogoyf\" + 0.052*\"Thoughtseize\" + 0.046*\"Lingering Souls\" + 0.036*\"Marsh Flats\" + 0.036*\"Collective Brutality\" + 0.036*\"Fulminator Mage\" + 0.028*\"Swamp\" + 0.025*\"Abrupt Decay\" + 0.025*\"Blooming Marsh\" + 0.025*\"Overgrown Tomb\" + 0.021*\"Surgical Extraction\" + 0.019*\"Mishra's Bauble\" \n",
      "\n",
      "Archetype 24 \n",
      " 0.055*\"Blood Moon\" + 0.051*\"Lightning Bolt\" + 0.049*\"Bloodstained Mire\" + 0.048*\"Blackcleave Cliffs\" + 0.047*\"Forest\" + 0.034*\"Terminate\" + 0.032*\"Kolaghan's Command\" + 0.028*\"Wooded Foothills\" + 0.024*\"Inquisition of Kozilek\" + 0.024*\"Anger of the Gods\" + 0.023*\"Goblin Rabblemaster\" + 0.020*\"Blood Crypt\" + 0.020*\"Stomping Ground\" + 0.019*\"Raging Ravine\" + 0.018*\"Chandra, Torch of Defiance\" + 0.018*\"Thoughtseize\" \n",
      "\n",
      "Archetype 25 \n",
      " 0.052*\"Chord of Calling\" + 0.052*\"Windswept Heath\" + 0.052*\"Kitchen Finks\" + 0.051*\"Collected Company\" + 0.050*\"Birds of Paradise\" + 0.049*\"Verdant Catacombs\" + 0.043*\"Devoted Druid\" + 0.041*\"Vizier of Remedies\" + 0.039*\"Eternal Witness\" + 0.032*\"Noble Hierarch\" + 0.032*\"Path to Exile\" + 0.030*\"Temple Garden\" + 0.029*\"Forest\" + 0.025*\"Gavony Township\" + 0.024*\"Duskwatch Recruiter\" + 0.023*\"Overgrown Tomb\" \n",
      "\n",
      "Archetype 26 \n",
      " 0.053*\"Urza's Mine\" + 0.053*\"Expedition Map\" + 0.053*\"Urza's Tower\" + 0.053*\"Urza's Power Plant\" + 0.042*\"Walking Ballista\" + 0.038*\"Thought-Knot Seer\" + 0.036*\"Karn Liberated\" + 0.036*\"Relic of Progenitus\" + 0.034*\"Chalice of the Void\" + 0.034*\"Matter Reshaper\" + 0.034*\"Eldrazi Temple\" + 0.034*\"Reality Smasher\" + 0.028*\"Ghost Quarter\" + 0.025*\"Warping Wail\" + 0.021*\"Dismember\" + 0.021*\"Wurmcoil Engine\" \n",
      "\n",
      "Archetype 27 \n",
      " 0.054*\"Noble Hierarch\" + 0.053*\"Inkmoth Nexus\" + 0.053*\"Glistener Elf\" + 0.052*\"Vines of Vastwood\" + 0.052*\"Mutagenic Growth\" + 0.051*\"Might of Old Krosa\" + 0.049*\"Blighted Agent\" + 0.043*\"Blossoming Defense\" + 0.041*\"Become Immense\" + 0.040*\"Groundswell\" + 0.036*\"Windswept Heath\" + 0.030*\"Verdant Catacombs\" + 0.029*\"Spell Pierce\" + 0.027*\"Misty Rainforest\" + 0.026*\"Breeding Pool\" + 0.026*\"Forest\" \n",
      "\n",
      "Archetype 28 \n",
      " 0.051*\"Serum Visions\" + 0.048*\"Sleight of Hand\" + 0.047*\"Desperate Ritual\" + 0.047*\"Manamorphose\" + 0.045*\"Gifts Ungiven\" + 0.045*\"Pyretic Ritual\" + 0.044*\"Baral, Chief of Compliance\" + 0.041*\"Spirebluff Canal\" + 0.039*\"Island\" + 0.036*\"Steam Vents\" + 0.034*\"Remand\" + 0.032*\"Goblin Electromancer\" + 0.032*\"Lightning Bolt\" + 0.031*\"Grapeshot\" + 0.028*\"Scalding Tarn\" + 0.027*\"Empty the Warrens\" \n",
      "\n",
      "Archetype 29 \n",
      " 0.052*\"Forest\" + 0.052*\"Elvish Archdruid\" + 0.052*\"Heritage Druid\" + 0.052*\"Llanowar Elves\" + 0.051*\"Collected Company\" + 0.051*\"Nettle Sentinel\" + 0.051*\"Dwynen's Elite\" + 0.051*\"Elvish Mystic\" + 0.049*\"Chord of Calling\" + 0.042*\"Ezuri, Renegade Leader\" + 0.039*\"Windswept Heath\" + 0.033*\"Elvish Visionary\" + 0.031*\"Razorverge Thicket\" + 0.030*\"Devoted Druid\" + 0.028*\"Path to Exile\" + 0.024*\"Cavern of Souls\" \n",
      "\n"
     ]
    }
   ],
   "source": [
    "number_of_top_cards = 16\n",
    "\n",
    "for i in range(archetypes):\n",
    "    print((\"Archetype %i \\n %s \\n\") % (i, lda.print_topic(i, topn=number_of_top_cards)))"
   ]
  },
  {
   "cell_type": "markdown",
   "metadata": {},
   "source": [
    "Since the model is generative, we can generate new decks as well. Here's an example of how to make an affinity deck:"
   ]
  },
  {
   "cell_type": "code",
   "execution_count": 12,
   "metadata": {
    "collapsed": false,
    "scrolled": true
   },
   "outputs": [
    {
     "name": "stdout",
     "output_type": "stream",
     "text": [
      "4 Blinkmoth Nexus\n",
      "4 Darksteel Citadel\n",
      "4 Mox Opal\n",
      "4 Signal Pest\n",
      "4 Inkmoth Nexus\n",
      "4 Arcbound Ravager\n",
      "4 Cranial Plating\n",
      "4 Ornithopter\n",
      "4 Springleaf Drum\n",
      "4 Vault Skirge\n",
      "4 Steel Overseer\n",
      "4 Etched Champion\n",
      "3 Galvanic Blast\n",
      "2 Master of Etherium\n",
      "3 Spire of Industry\n",
      "1 Memnite\n",
      "3 Ghirapur Aether Grid\n",
      "2 Ancient Grudge\n",
      "3 Glimmervoid\n",
      "2 Grafdigger's Cage\n",
      "2 Spell Pierce\n",
      "1 Whipflare\n",
      "1 Rest in Peace\n",
      "2 Relic of Progenitus\n",
      "1 Vandalblast\n",
      "1 Gemstone Caverns\n"
     ]
    }
   ],
   "source": [
    "archetype_id = 13\n",
    "archetype_topic = np.array(lda.show_topic(archetype_id, topn=9999))\n",
    "\n",
    "archetype_distribution = np.array(archetype_topic[:,1], dtype=\"float32\")\n",
    "archetype_distribution = archetype_distribution / np.sum(archetype_distribution)\n",
    "\n",
    "archetype_indices = np.zeros(len(archetype_distribution))\n",
    "main_deck = 60\n",
    "sideboard = 15\n",
    "while np.sum(archetype_indices) < main_deck+sideboard:\n",
    "    new_card = np.random.multinomial(1, archetype_distribution)\n",
    "    archetype_indices += new_card\n",
    "    if 5 in archetype_indices:\n",
    "        archetype_indices -= new_card\n",
    "archetype_cards = np.array(archetype_topic[:,0], dtype=\"string\")\n",
    "minimum_cards = 1.0\n",
    "for i in range(len(archetype_distribution)):\n",
    "    if archetype_indices[i] >= minimum_cards:        \n",
    "        print('%i %s' % (archetype_indices[i], archetype_cards[i]))"
   ]
  }
 ],
 "metadata": {
  "kernelspec": {
   "display_name": "Python 2",
   "language": "python",
   "name": "python2"
  },
  "language_info": {
   "codemirror_mode": {
    "name": "ipython",
    "version": 2
   },
   "file_extension": ".py",
   "mimetype": "text/x-python",
   "name": "python",
   "nbconvert_exporter": "python",
   "pygments_lexer": "ipython2",
   "version": "2.7.12"
  }
 },
 "nbformat": 4,
 "nbformat_minor": 1
}
